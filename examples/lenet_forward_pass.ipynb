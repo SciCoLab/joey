{
 "cells": [
  {
   "cell_type": "code",
   "execution_count": 1,
   "metadata": {},
   "outputs": [],
   "source": [
    "import torch\n",
    "import torchvision\n",
    "import torchvision.transforms as transforms"
   ]
  },
  {
   "cell_type": "code",
   "execution_count": 2,
   "metadata": {},
   "outputs": [],
   "source": [
    "import matplotlib.pyplot as plt\n",
    "import numpy as np\n",
    "\n",
    "def imshow(img):\n",
    "    img = img / 2 + 0.5\n",
    "    npimg = img.numpy()\n",
    "    plt.imshow(np.transpose(npimg, (1, 2, 0)))\n",
    "    plt.show()"
   ]
  },
  {
   "cell_type": "code",
   "execution_count": 3,
   "metadata": {},
   "outputs": [],
   "source": [
    "transform = transforms.Compose(\n",
    "    [transforms.Resize((32, 32)),\n",
    "     transforms.ToTensor(),\n",
    "     transforms.Normalize(0.5, 0.5)])\n",
    "testset = torchvision.datasets.MNIST(root='./mnist', train=False, download=True, transform=transform)\n",
    "testloader = torch.utils.data.DataLoader(testset, batch_size=4, shuffle=False, num_workers=2)\n",
    "\n",
    "classes = ('0', '1', '2', '3', '4', '5', '6', '7', '8', '9')\n",
    "dataiter = iter(testloader)"
   ]
  },
  {
   "cell_type": "code",
   "execution_count": 4,
   "metadata": {},
   "outputs": [],
   "source": [
    "images, labels = dataiter.next()\n",
    "input_data = images.numpy()"
   ]
  },
  {
   "cell_type": "code",
   "execution_count": 5,
   "metadata": {},
   "outputs": [
    {
     "data": {
      "image/png": "[encoded data removed]",
      "text/plain": [
       "<Figure size 432x288 with 1 Axes>"
      ]
     },
     "metadata": {
      "needs_background": "light"
     },
     "output_type": "display_data"
    }
   ],
   "source": [
    "imshow(torchvision.utils.make_grid(images))"
   ]
  },
  {
   "cell_type": "code",
   "execution_count": 6,
   "metadata": {},
   "outputs": [],
   "source": [
    "import joey as ml\n",
    "import numpy as np\n",
    "from joey.activation import ReLU\n",
    "\n",
    "def forward_pass(input_data):\n",
    "    parameters = get_parameters()\n",
    "    \n",
    "    batch_size = 4\n",
    "    \n",
    "    # Six 3x3 filters, activation RELU\n",
    "    layer1 = ml.Conv(kernel_size=(6, 3, 3),\n",
    "                     input_size=(batch_size, 1, 32, 32),\n",
    "                     activation=ReLU())\n",
    "    # 2x2 max pooling\n",
    "    layer2 = ml.MaxPooling(kernel_size=(2, 2),\n",
    "                           input_size=(batch_size, 6, 30, 30),\n",
    "                           stride=(2, 2))\n",
    "    # Sixteen 3x3 filters, activation RELU\n",
    "    layer3 = ml.Conv(kernel_size=(16, 3, 3),\n",
    "                     input_size=(batch_size, 6, 15, 15),\n",
    "                     activation=ReLU())\n",
    "    # 2x2 max pooling\n",
    "    layer4 = ml.MaxPooling(kernel_size=(2, 2),\n",
    "                           input_size=(batch_size, 16, 13, 13),\n",
    "                           stride=(2, 2),\n",
    "                           strict_stride_check=False)\n",
    "    # Full connection (16 * 6 * 6 -> 120), activation RELU\n",
    "    layer5 = ml.FullyConnected(weight_size=(120, 576),\n",
    "                               input_size=(576, batch_size),\n",
    "                               activation=ReLU())\n",
    "    # Full connection (120 -> 84), activation RELU\n",
    "    layer6 = ml.FullyConnected(weight_size=(84, 120),\n",
    "                               input_size=(120, batch_size),\n",
    "                               activation=ReLU())\n",
    "    # Full connection (84 -> 10), output layer\n",
    "    layer7 = ml.FullyConnected(weight_size=(10, 84),\n",
    "                               input_size=(84, batch_size))\n",
    "    # Flattening layer necessary between layer 4 and 5\n",
    "    layer_flat = ml.Flat(input_size=(batch_size, 16, 6, 6))\n",
    "    \n",
    "    current_data = input_data\n",
    "    current_data = layer1.execute(current_data, parameters[1], parameters[0])\n",
    "    current_data = layer2.execute(current_data)\n",
    "    current_data = layer3.execute(current_data, parameters[3], parameters[2])\n",
    "    current_data = layer4.execute(current_data)\n",
    "    \n",
    "    current_data = layer_flat.execute(current_data)\n",
    "    \n",
    "    current_data = layer5.execute(current_data, parameters[5], parameters[4])\n",
    "    current_data = layer6.execute(current_data, parameters[7], parameters[6])\n",
    "    current_data = layer7.execute(current_data, parameters[9], parameters[8])\n",
    "    \n",
    "    return current_data\n",
    "\n",
    "def get_parameters():\n",
    "    # The LeNet trained parameters are stored in the following files:\n",
    "    # 1.npy: layer 1 weights\n",
    "    # 2.npy: layer 1 biases\n",
    "    # 3.npy: layer 3 weights\n",
    "    # 4.npy: layer 3 biases\n",
    "    # 5.npy: layer 5 weights\n",
    "    # 6.npy: layer 5 biases\n",
    "    # 7.npy: layer 6 weights\n",
    "    # 8.npy: layer 6 biases\n",
    "    # 9.npy: layer 7 weights\n",
    "    # 10.npy: layer 7 biases\n",
    "    #\n",
    "    # For layer numbering, see forward_pass().\n",
    "    \n",
    "    parameters = []\n",
    "    path = './resources/'\n",
    "    for i in range(10):\n",
    "        to_add = np.load(path + str(i + 1) + '.npy')\n",
    "        parameters.append(to_add)\n",
    "    return parameters"
   ]
  },
  {
   "cell_type": "code",
   "execution_count": 7,
   "metadata": {},
   "outputs": [
    {
     "name": "stderr",
     "output_type": "stream",
     "text": [
      "/home/maksymilian/Desktop/UROP/devito/devito/types/grid.py:206: RuntimeWarning: divide by zero encountered in true_divide\n",
      "  spacing = (np.array(self.extent) / (np.array(self.shape) - 1)).astype(self.dtype)\n",
      "Operator `Kernel` run in 0.01 s\n",
      "Operator `Kernel` run in 0.01 s\n",
      "Operator `Kernel` run in 0.01 s\n",
      "Operator `Kernel` run in 0.01 s\n",
      "Operator `Kernel` run in 0.01 s\n",
      "Operator `Kernel` run in 0.01 s\n",
      "Operator `Kernel` run in 0.01 s\n",
      "Operator `Kernel` run in 0.01 s\n"
     ]
    }
   ],
   "source": [
    "results = forward_pass(input_data)"
   ]
  },
  {
   "cell_type": "code",
   "execution_count": 8,
   "metadata": {},
   "outputs": [
    {
     "name": "stdout",
     "output_type": "stream",
     "text": [
      "[[-1.25093235  2.40170754 -2.91894739 11.40261028]\n",
      " [-2.07392762  3.71119382 10.29915659 -3.86913358]\n",
      " [ 1.71857655 11.98346066  0.78475773 -0.83818808]\n",
      " [ 2.72902527  1.57888285 -2.29991193 -2.10936302]\n",
      " [-3.44730161 -0.97862156  0.74267698 -2.76126013]\n",
      " [-2.24625136 -6.90597038 -2.56770215  0.69071474]\n",
      " [-9.81793181 -1.31553492 -2.71544678  1.17052616]\n",
      " [11.80988846 -2.70283259  0.54783864  1.00494804]\n",
      " [-1.00474132 -2.48071229 -1.01346485 -1.28202689]\n",
      " [ 4.6835631  -6.38347289 -2.26087571 -0.76408295]]\n"
     ]
    }
   ],
   "source": [
    "print(results)"
   ]
  },
  {
   "cell_type": "code",
   "execution_count": 9,
   "metadata": {},
   "outputs": [],
   "source": [
    "expected = np.array([[-1.2509323 ,  2.4017086 , -2.9189475 , 11.402614  ],\n",
    "                     [-2.0739274 ,  3.711194  , 10.299156  , -3.8691325 ],\n",
    "                     [ 1.7185768 , 11.983461  ,  0.7847577 , -0.8381885 ],\n",
    "                     [ 2.7290256 ,  1.5788821 , -2.2999125 , -2.1093633 ],\n",
    "                     [-3.447302  , -0.9786217 ,  0.7426771 , -2.761261  ],\n",
    "                     [-2.2462513 , -6.905971  , -2.5677016 ,  0.6907152 ],\n",
    "                     [-9.817931  , -1.3155346 , -2.7154455 ,  1.1705266 ],\n",
    "                     [11.809888  , -2.7028327 ,  0.54783845,  1.0049481 ],\n",
    "                     [-1.0047406 , -2.4807127 , -1.013465  , -1.2820265 ],\n",
    "                     [ 4.6835623 , -6.3834734 , -2.2608764 , -0.76408434]])\n",
    "error = abs(results - expected) / expected"
   ]
  },
  {
   "cell_type": "code",
   "execution_count": 10,
   "metadata": {},
   "outputs": [
    {
     "name": "stdout",
     "output_type": "stream",
     "text": [
      "[[-3.63663429e-08  4.40914511e-07 -3.72550049e-08  3.25849137e-07]\n",
      " [-1.05593081e-07  4.90411682e-08  5.72853023e-08 -2.79713692e-07]\n",
      " [ 1.45904743e-07  2.85106639e-08  4.09210438e-08 -5.01416183e-07]\n",
      " [ 1.20755307e-07  4.73338244e-07 -2.46663913e-07 -1.33781978e-07]\n",
      " [-1.13912282e-07 -1.40684427e-07  1.58951535e-07 -3.16022361e-07]\n",
      " [-2.53501737e-08 -8.97095633e-08 -2.15097806e-07  6.65195837e-07]\n",
      " [-8.21189975e-08 -2.44784091e-07 -4.71435314e-07  3.77461859e-07]\n",
      " [ 3.91327608e-08 -4.14888517e-08  3.43611389e-07  5.78272754e-08]\n",
      " [-7.21504199e-07 -1.64031238e-07 -1.47184007e-07 -3.07741901e-07]\n",
      " [ 1.71215680e-07 -8.06319813e-08 -3.03396411e-07 -1.81879287e-06]]\n",
      "6.651958371252912e-07\n"
     ]
    }
   ],
   "source": [
    "print(error)\n",
    "print(np.amax(error))"
   ]
  }
 ],
 "metadata": {
  "kernelspec": {
   "display_name": "Python 3",
   "language": "python",
   "name": "python3"
  },
  "language_info": {
   "codemirror_mode": {
    "name": "ipython",
    "version": 3
   },
   "file_extension": ".py",
   "mimetype": "text/x-python",
   "name": "python",
   "nbconvert_exporter": "python",
   "pygments_lexer": "ipython3",
   "version": "3.8.3"
  }
 },
 "nbformat": 4,
 "nbformat_minor": 4
}
