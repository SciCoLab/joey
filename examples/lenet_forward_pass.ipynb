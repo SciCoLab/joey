{
 "cells": [
  {
   "cell_type": "markdown",
   "metadata": {},
   "source": [
    "# Running a forward pass through LeNet using MNIST and Joey"
   ]
  },
  {
   "cell_type": "markdown",
   "metadata": {},
   "source": [
    "In this example, we will construct LeNet using Joey, set it up with pretrained parameters and run a forward pass through it with test data from MNIST. The results will be compared to the PyTorch ones to confirm Joey's numerical correctness."
   ]
  },
  {
   "cell_type": "markdown",
   "metadata": {},
   "source": [
    "Firstly, let's import all the prerequisites:"
   ]
  },
  {
   "cell_type": "code",
   "execution_count": 11,
   "metadata": {},
   "outputs": [],
   "source": [
    "import torch\n",
    "import torchvision\n",
    "import torchvision.transforms as transforms\n",
    "import torch.nn as nn\n",
    "import torch.nn.functional as F\n",
    "import torch.optim as optim\n",
    "import matplotlib.pyplot as plt\n",
    "import numpy as np\n",
    "import joey as ml\n",
    "from joey.activation import ReLU"
   ]
  },
  {
   "cell_type": "markdown",
   "metadata": {},
   "source": [
    "We'll define `imshow()` to quickly have a look at the MNIST data we'll use for the forward pass."
   ]
  },
  {
   "cell_type": "code",
   "execution_count": 12,
   "metadata": {},
   "outputs": [],
   "source": [
    "def imshow(img):\n",
    "    img = img / 2 + 0.5\n",
    "    npimg = img.numpy()\n",
    "    plt.imshow(np.transpose(npimg, (1, 2, 0)))\n",
    "    plt.show()"
   ]
  },
  {
   "cell_type": "markdown",
   "metadata": {},
   "source": [
    "Before we start working with Joey, we have to download the images and convert them to NumPy arrays with `dtype=np.float64`. This is because Joey supports only NumPy arrays (rather than PyTorch tensors) and it currently works with double floating-point numbers.\n",
    "\n",
    "In our case, a batch will consist of 4 elements."
   ]
  },
  {
   "cell_type": "code",
   "execution_count": 13,
   "metadata": {},
   "outputs": [],
   "source": [
    "transform = transforms.Compose(\n",
    "    [transforms.Resize((32, 32)),\n",
    "     transforms.ToTensor(),\n",
    "     transforms.Normalize(0.5, 0.5)])\n",
    "testset = torchvision.datasets.MNIST(root='./mnist', train=False, download=True, transform=transform)\n",
    "testloader = torch.utils.data.DataLoader(testset, batch_size=4, shuffle=False, num_workers=2)\n",
    "\n",
    "classes = ('0', '1', '2', '3', '4', '5', '6', '7', '8', '9')\n",
    "dataiter = iter(testloader)\n",
    "\n",
    "images, labels = dataiter.next()\n",
    "input_data = images.double().numpy()"
   ]
  },
  {
   "cell_type": "markdown",
   "metadata": {},
   "source": [
    "Let's have a look at what we've downloaded:"
   ]
  },
  {
   "cell_type": "code",
   "execution_count": 14,
   "metadata": {},
   "outputs": [
    {
     "data": {
      "image/png": "[encoded data removed]",
      "text/plain": [
       "<Figure size 432x288 with 1 Axes>"
      ]
     },
     "metadata": {
      "needs_background": "light"
     },
     "output_type": "display_data"
    }
   ],
   "source": [
    "imshow(torchvision.utils.make_grid(images))"
   ]
  },
  {
   "cell_type": "markdown",
   "metadata": {},
   "source": [
    "Now, we'll define `forward_pass()`. It creates LeNet using the `Net` class in Joey along with appropriate layer classes (here: `Conv`, `MaxPooling`, `Flat` and `FullyConnected`). Afterwards, by accessing the `kernel` and `bias` properties of each relevant layer, it inserts the pretrained weights saved in `.npy` files inside `resources/`.\n",
    "\n",
    "Note that we have to disable a strict stride check in `layer4`. If we didn't do that, we would get an error saying the stride is incompatible with the provided kernel and input sizes."
   ]
  },
  {
   "cell_type": "code",
   "execution_count": 15,
   "metadata": {},
   "outputs": [],
   "source": [
    "def forward_pass(input_data):\n",
    "    parameters = get_parameters()\n",
    "    \n",
    "    batch_size = 4\n",
    "    \n",
    "    # Six 3x3 filters, activation RELU\n",
    "    layer1 = ml.Conv(kernel_size=(6, 3, 3),\n",
    "                     input_size=(batch_size, 1, 32, 32),\n",
    "                     activation=ReLU())\n",
    "    # 2x2 max pooling\n",
    "    layer2 = ml.MaxPooling(kernel_size=(2, 2),\n",
    "                           input_size=(batch_size, 6, 30, 30),\n",
    "                           stride=(2, 2))\n",
    "    # Sixteen 3x3 filters, activation RELU\n",
    "    layer3 = ml.Conv(kernel_size=(16, 3, 3),\n",
    "                     input_size=(batch_size, 6, 15, 15),\n",
    "                     activation=ReLU())\n",
    "    # 2x2 max pooling\n",
    "    layer4 = ml.MaxPooling(kernel_size=(2, 2),\n",
    "                           input_size=(batch_size, 16, 13, 13),\n",
    "                           stride=(2, 2),\n",
    "                           strict_stride_check=False)\n",
    "    # Full connection (16 * 6 * 6 -> 120), activation RELU\n",
    "    layer5 = ml.FullyConnected(weight_size=(120, 576),\n",
    "                               input_size=(576, batch_size),\n",
    "                               activation=ReLU())\n",
    "    # Full connection (120 -> 84), activation RELU\n",
    "    layer6 = ml.FullyConnected(weight_size=(84, 120),\n",
    "                               input_size=(120, batch_size),\n",
    "                               activation=ReLU())\n",
    "    # Full connection (84 -> 10), output layer\n",
    "    layer7 = ml.FullyConnected(weight_size=(10, 84),\n",
    "                               input_size=(84, batch_size))\n",
    "    # Flattening layer necessary between layer 4 and 5\n",
    "    layer_flat = ml.Flat(input_size=(batch_size, 16, 6, 6))\n",
    "    \n",
    "    layers = [layer1, layer2, layer3, layer4,\n",
    "              layer_flat, layer5, layer6, layer7]\n",
    "    \n",
    "    net = ml.Net(layers)\n",
    "    \n",
    "    # Setting up the pretrained parameters\n",
    "    layer1.kernel.data[:] = parameters[0]\n",
    "    layer1.bias.data[:] = parameters[1]\n",
    "    \n",
    "    layer3.kernel.data[:] = parameters[2]\n",
    "    layer3.bias.data[:] = parameters[3]\n",
    "    \n",
    "    layer5.kernel.data[:] = parameters[4]\n",
    "    layer5.bias.data[:] = parameters[5]\n",
    "    \n",
    "    layer6.kernel.data[:] = parameters[6]\n",
    "    layer6.bias.data[:] = parameters[7]\n",
    "    \n",
    "    layer7.kernel.data[:] = parameters[8]\n",
    "    layer7.bias.data[:] = parameters[9]\n",
    "    \n",
    "    net.forward(input_data)\n",
    "    \n",
    "    return (layer1, layer2, layer3, layer4, layer5, layer6, layer7)\n",
    "\n",
    "def get_parameters():\n",
    "    # The LeNet pretrained parameters are stored in the following files:\n",
    "    # 1.npy: layer 1 weights\n",
    "    # 2.npy: layer 1 biases\n",
    "    # 3.npy: layer 3 weights\n",
    "    # 4.npy: layer 3 biases\n",
    "    # 5.npy: layer 5 weights\n",
    "    # 6.npy: layer 5 biases\n",
    "    # 7.npy: layer 6 weights\n",
    "    # 8.npy: layer 6 biases\n",
    "    # 9.npy: layer 7 weights\n",
    "    # 10.npy: layer 7 biases\n",
    "    #\n",
    "    # For layer numbering, see forward_pass().\n",
    "    \n",
    "    parameters = []\n",
    "    path = './resources/'\n",
    "    for i in range(10):\n",
    "        to_add = np.load(path + str(i + 1) + '.npy')\n",
    "        parameters.append(to_add)\n",
    "    return parameters"
   ]
  },
  {
   "cell_type": "markdown",
   "metadata": {},
   "source": [
    "At this point, we're ready to run the forward pass!"
   ]
  },
  {
   "cell_type": "code",
   "execution_count": 16,
   "metadata": {},
   "outputs": [
    {
     "name": "stderr",
     "output_type": "stream",
     "text": [
      "/var/folders/gg/vt085wyd2f71891zs2yw42fr0000gn/T/devito-jitcache-uid501/fad52ad15ef5d332f0aeae12af92b1892bff365f.c:262:49: warning: using floating point absolute value function 'fabs' when argument is of integer type [-Wabsolute-value]\n",
      "              f105[d60][d61][d64][d65] = fmin(4*fabs((((f104 - f65[d60][d61][d64][d65]) > 0) - ((f104 - f65[d60][d61][d64][d65]) < 0))) + f105[d60][d61][d64][d65], 2*d96 + d97 + 4*fabs((((f64[d60][d61][2*d64 + d96][2*d65 + d97] - f65[d60][d61][d64][d65]) > 0) - ((f64[d60][d61][2*d64 + d96][2*d65 + d97] - f65[d60][d61][d64][d65]) < 0))));\n",
      "                                                ^\n",
      "/var/folders/gg/vt085wyd2f71891zs2yw42fr0000gn/T/devito-jitcache-uid501/fad52ad15ef5d332f0aeae12af92b1892bff365f.c:262:49: note: use function 'abs' instead\n",
      "              f105[d60][d61][d64][d65] = fmin(4*fabs((((f104 - f65[d60][d61][d64][d65]) > 0) - ((f104 - f65[d60][d61][d64][d65]) < 0))) + f105[d60][d61][d64][d65], 2*d96 + d97 + 4*fabs((((f64[d60][d61][2*d64 + d96][2*d65 + d97] - f65[d60][d61][d64][d65]) > 0) - ((f64[d60][d61][2*d64 + d96][2*d65 + d97] - f65[d60][d61][d64][d65]) < 0))));\n",
      "                                                ^~~~\n",
      "                                                abs\n",
      "/var/folders/gg/vt085wyd2f71891zs2yw42fr0000gn/T/devito-jitcache-uid501/fad52ad15ef5d332f0aeae12af92b1892bff365f.c:262:181: warning: using floating point absolute value function 'fabs' when argument is of integer type [-Wabsolute-value]\n",
      "              f105[d60][d61][d64][d65] = fmin(4*fabs((((f104 - f65[d60][d61][d64][d65]) > 0) - ((f104 - f65[d60][d61][d64][d65]) < 0))) + f105[d60][d61][d64][d65], 2*d96 + d97 + 4*fabs((((f64[d60][d61][2*d64 + d96][2*d65 + d97] - f65[d60][d61][d64][d65]) > 0) - ((f64[d60][d61][2*d64 + d96][2*d65 + d97] - f65[d60][d61][d64][d65]) < 0))));\n",
      "                                                                                                                                                                                    ^\n",
      "/var/folders/gg/vt085wyd2f71891zs2yw42fr0000gn/T/devito-jitcache-uid501/fad52ad15ef5d332f0aeae12af92b1892bff365f.c:262:181: note: use function 'abs' instead\n",
      "              f105[d60][d61][d64][d65] = fmin(4*fabs((((f104 - f65[d60][d61][d64][d65]) > 0) - ((f104 - f65[d60][d61][d64][d65]) < 0))) + f105[d60][d61][d64][d65], 2*d96 + d97 + 4*fabs((((f64[d60][d61][2*d64 + d96][2*d65 + d97] - f65[d60][d61][d64][d65]) > 0) - ((f64[d60][d61][2*d64 + d96][2*d65 + d97] - f65[d60][d61][d64][d65]) < 0))));\n",
      "                                                                                                                                                                                    ^~~~\n",
      "                                                                                                                                                                                    abs\n",
      "/var/folders/gg/vt085wyd2f71891zs2yw42fr0000gn/T/devito-jitcache-uid501/fad52ad15ef5d332f0aeae12af92b1892bff365f.c:339:49: warning: using floating point absolute value function 'fabs' when argument is of integer type [-Wabsolute-value]\n",
      "              f107[d76][d77][d80][d81] = fmin(4*fabs((((f106 - f75[d76][d77][d80][d81]) > 0) - ((f106 - f75[d76][d77][d80][d81]) < 0))) + f107[d76][d77][d80][d81], 2*d98 + d99 + 4*fabs((((f74[d76][d77][2*d80 + d98][2*d81 + d99] - f75[d76][d77][d80][d81]) > 0) - ((f74[d76][d77][2*d80 + d98][2*d81 + d99] - f75[d76][d77][d80][d81]) < 0))));\n",
      "                                                ^\n",
      "/var/folders/gg/vt085wyd2f71891zs2yw42fr0000gn/T/devito-jitcache-uid501/fad52ad15ef5d332f0aeae12af92b1892bff365f.c:339:49: note: use function 'abs' instead\n",
      "              f107[d76][d77][d80][d81] = fmin(4*fabs((((f106 - f75[d76][d77][d80][d81]) > 0) - ((f106 - f75[d76][d77][d80][d81]) < 0))) + f107[d76][d77][d80][d81], 2*d98 + d99 + 4*fabs((((f74[d76][d77][2*d80 + d98][2*d81 + d99] - f75[d76][d77][d80][d81]) > 0) - ((f74[d76][d77][2*d80 + d98][2*d81 + d99] - f75[d76][d77][d80][d81]) < 0))));\n",
      "                                                ^~~~\n",
      "                                                abs\n",
      "/var/folders/gg/vt085wyd2f71891zs2yw42fr0000gn/T/devito-jitcache-uid501/fad52ad15ef5d332f0aeae12af92b1892bff365f.c:339:181: warning: using floating point absolute value function 'fabs' when argument is of integer type [-Wabsolute-value]\n",
      "              f107[d76][d77][d80][d81] = fmin(4*fabs((((f106 - f75[d76][d77][d80][d81]) > 0) - ((f106 - f75[d76][d77][d80][d81]) < 0))) + f107[d76][d77][d80][d81], 2*d98 + d99 + 4*fabs((((f74[d76][d77][2*d80 + d98][2*d81 + d99] - f75[d76][d77][d80][d81]) > 0) - ((f74[d76][d77][2*d80 + d98][2*d81 + d99] - f75[d76][d77][d80][d81]) < 0))));\n",
      "                                                                                                                                                                                    ^\n",
      "/var/folders/gg/vt085wyd2f71891zs2yw42fr0000gn/T/devito-jitcache-uid501/fad52ad15ef5d332f0aeae12af92b1892bff365f.c:339:181: note: use function 'abs' instead\n",
      "              f107[d76][d77][d80][d81] = fmin(4*fabs((((f106 - f75[d76][d77][d80][d81]) > 0) - ((f106 - f75[d76][d77][d80][d81]) < 0))) + f107[d76][d77][d80][d81], 2*d98 + d99 + 4*fabs((((f74[d76][d77][2*d80 + d98][2*d81 + d99] - f75[d76][d77][d80][d81]) > 0) - ((f74[d76][d77][2*d80 + d98][2*d81 + d99] - f75[d76][d77][d80][d81]) < 0))));\n",
      "                                                                                                                                                                                    ^~~~\n",
      "                                                                                                                                                                                    abs\n",
      "4 warnings generated.\n",
      "/Users/navjotkukreja/miniconda3/envs/joey/lib/python3.10/site-packages/devito/types/grid.py:259: RuntimeWarning: divide by zero encountered in divide\n",
      "  spacing = (np.array(self.extent) / (np.array(self.shape) - 1)).astype(self.dtype)\n",
      "Operator `Kernel` ran in 0.01 s\n"
     ]
    }
   ],
   "source": [
    "layer1, layer2, layer3, layer4, layer5, layer6, layer7 = forward_pass(input_data)"
   ]
  },
  {
   "cell_type": "markdown",
   "metadata": {},
   "source": [
    "After the pass is finished, we can access its output by checking the `result` property of the last layer."
   ]
  },
  {
   "cell_type": "code",
   "execution_count": 17,
   "metadata": {},
   "outputs": [
    {
     "name": "stdout",
     "output_type": "stream",
     "text": [
      "[[-1.25093235  2.40170754 -2.91894739 11.40261028]\n",
      " [-2.07392762  3.71119382 10.29915659 -3.86913358]\n",
      " [ 1.71857655 11.98346066  0.78475773 -0.83818808]\n",
      " [ 2.72902527  1.57888285 -2.29991193 -2.10936302]\n",
      " [-3.44730161 -0.97862156  0.74267698 -2.76126013]\n",
      " [-2.24625136 -6.90597038 -2.56770215  0.69071474]\n",
      " [-9.81793181 -1.31553492 -2.71544678  1.17052616]\n",
      " [11.80988846 -2.70283259  0.54783864  1.00494804]\n",
      " [-1.00474132 -2.48071229 -1.01346485 -1.28202689]\n",
      " [ 4.6835631  -6.38347289 -2.26087571 -0.76408295]]\n"
     ]
    }
   ],
   "source": [
    "output = layer7.result.data\n",
    "print(output)"
   ]
  },
  {
   "cell_type": "markdown",
   "metadata": {},
   "source": [
    "The results look promising: for each batch element (arranged in columns rather than rows), the highest number corresponds to the expected class, i.e. '7' has been recognised as 7, '2' has been recognised as 2, '1' has been recognised as 1 and '0' has been recognised as 0.\n",
    "\n",
    "For reference, we'll construct the same network with the same weights in PyTorch, run the pass there and compare the outputs."
   ]
  },
  {
   "cell_type": "code",
   "execution_count": 18,
   "metadata": {},
   "outputs": [],
   "source": [
    "class Net(nn.Module):\n",
    "    def __init__(self):\n",
    "        super(Net, self).__init__()\n",
    "        self.conv1 = nn.Conv2d(1, 6, 3)\n",
    "        self.conv2 = nn.Conv2d(6, 16, 3)\n",
    "        self.fc1 = nn.Linear(16 * 6 * 6, 120)\n",
    "        self.fc2 = nn.Linear(120, 84)\n",
    "        self.fc3 = nn.Linear(84, 10)\n",
    "    \n",
    "    def forward(self, x):\n",
    "        x = F.max_pool2d(F.relu(self.conv1(x)), (2, 2))\n",
    "        x = F.max_pool2d(F.relu(self.conv2(x)), 2)\n",
    "        x = x.view(-1, self.num_flat_features(x))\n",
    "        x = F.relu(self.fc1(x))\n",
    "        x = F.relu(self.fc2(x))\n",
    "        x = self.fc3(x)\n",
    "        return x\n",
    "    \n",
    "    def num_flat_features(self, x):\n",
    "        size = x.size()[1:]\n",
    "        num_features = 1\n",
    "        for s in size:\n",
    "            num_features *= s\n",
    "        return num_features"
   ]
  },
  {
   "cell_type": "code",
   "execution_count": 19,
   "metadata": {},
   "outputs": [],
   "source": [
    "net = Net()\n",
    "net.double()\n",
    "\n",
    "with torch.no_grad():\n",
    "    net.conv1.weight[:] = torch.from_numpy(layer1.kernel.data)\n",
    "    net.conv1.bias[:] = torch.from_numpy(layer1.bias.data)\n",
    "    net.conv2.weight[:] = torch.from_numpy(layer3.kernel.data)\n",
    "    net.conv2.bias[:] = torch.from_numpy(layer3.bias.data)\n",
    "    net.fc1.weight[:] = torch.from_numpy(layer5.kernel.data)\n",
    "    net.fc1.bias[:] = torch.from_numpy(layer5.bias.data)\n",
    "    net.fc2.weight[:] = torch.from_numpy(layer6.kernel.data)\n",
    "    net.fc2.bias[:] = torch.from_numpy(layer6.bias.data)\n",
    "    net.fc3.weight[:] = torch.from_numpy(layer7.kernel.data)\n",
    "    net.fc3.bias[:] = torch.from_numpy(layer7.bias.data)\n",
    "\n",
    "pytorch_output = np.transpose(net(images.double()).detach().numpy())"
   ]
  },
  {
   "cell_type": "markdown",
   "metadata": {},
   "source": [
    "After creating and running the network in PyTorch, we'll calculate a relative error matrix as shown below. The maximum value in that matrix will be obtained as well."
   ]
  },
  {
   "cell_type": "code",
   "execution_count": 20,
   "metadata": {},
   "outputs": [
    {
     "name": "stdout",
     "output_type": "stream",
     "text": [
      "[[3.55006577e-16 0.00000000e+00 1.52140190e-16 1.55785105e-16]\n",
      " [4.28259121e-16 2.39324181e-16 0.00000000e+00 2.29554860e-16]\n",
      " [7.75215762e-16 0.00000000e+00 1.83915350e-15 9.27185838e-16]\n",
      " [1.62728141e-16 1.40633997e-16 5.79268976e-16 4.21064754e-16]\n",
      " [2.57644535e-16 1.58826690e-15 1.19591483e-15 6.43313834e-16]\n",
      " [3.95404734e-16 0.00000000e+00 1.72951995e-16 1.60735389e-16]\n",
      " [0.00000000e+00 1.68786553e-16 3.27083715e-16 1.89696406e-16]\n",
      " [0.00000000e+00 1.64305112e-16 8.10620462e-16 0.00000000e+00]\n",
      " [8.83987149e-16 1.79016813e-16 2.19094530e-16 1.73198086e-16]\n",
      " [0.00000000e+00 2.78274361e-16 0.00000000e+00 4.35904122e-16]]\n",
      "1.839153502987959e-15\n"
     ]
    }
   ],
   "source": [
    "error = abs(output - pytorch_output) / abs(pytorch_output)\n",
    "\n",
    "print(error)\n",
    "print(np.nanmax(error))"
   ]
  },
  {
   "cell_type": "markdown",
   "metadata": {},
   "source": [
    "As we can see, the maximum error is low enough (given the floating-point calculation accuracy) for the Joey results to be considered numerically correct."
   ]
  }
 ],
 "metadata": {
  "kernelspec": {
   "display_name": "Python 3 (ipykernel)",
   "language": "python",
   "name": "python3"
  },
  "language_info": {
   "codemirror_mode": {
    "name": "ipython",
    "version": 3
   },
   "file_extension": ".py",
   "mimetype": "text/x-python",
   "name": "python",
   "nbconvert_exporter": "python",
   "pygments_lexer": "ipython3",
   "version": "3.10.4"
  }
 },
 "nbformat": 4,
 "nbformat_minor": 4
}
