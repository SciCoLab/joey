{
 "cells": [
  {
   "cell_type": "markdown",
   "metadata": {},
   "source": [
    "# Embedding a sequence of CNN layers in one Operator"
   ]
  },
  {
   "cell_type": "markdown",
   "metadata": {},
   "source": [
    "In this example, we will create a simple 2D convolutional neural network (CNN) and execute a forward pass through it using Devito."
   ]
  },
  {
   "cell_type": "markdown",
   "metadata": {},
   "source": [
    "Firstly, let's import all the prerequisites:"
   ]
  },
  {
   "cell_type": "code",
   "execution_count": 1,
   "metadata": {},
   "outputs": [],
   "source": [
    "import joey\n",
    "from devito import Operator"
   ]
  },
  {
   "cell_type": "markdown",
   "metadata": {},
   "source": [
    "The CNN will have the following layers:\n",
    "\n",
    "1. Max pooling on a 4x4 input with a 2x2 kernel, 1x1 stride, no padding and no bias\n",
    "2. Convolution on a 3x3 input with a 2x2 kernel, 1x1 stride, no padding and no bias\n",
    "3. Flat (this turns a matrix into a vector)\n",
    "4. Full connection on a 4-element vector with a 2x4 weight matrix and softmax as an activation function\n",
    "\n",
    "We'll instruct Devito not to generate any C code at this stage (i.e. declaring layers) by adding `generate_code=False` (this is because every layer is standalone and can be used in isolation, i.e. we can have one `Operator` per layer if we wish)."
   ]
  },
  {
   "cell_type": "code",
   "execution_count": 2,
   "metadata": {},
   "outputs": [
    {
     "name": "stderr",
     "output_type": "stream",
     "text": [
      "/home/maksymilian/Desktop/UROP/devito/devito/types/grid.py:206: RuntimeWarning: divide by zero encountered in true_divide\n",
      "  spacing = (np.array(self.extent) / (np.array(self.shape) - 1)).astype(self.dtype)\n"
     ]
    }
   ],
   "source": [
    "layer1 = joey.MaxPooling(kernel_size=(2, 2), input_size=(1, 1, 4, 4), generate_code=False)\n",
    "layer2 = joey.Conv(kernel_size=(1, 2, 2), input_size=(1, 1, 3, 3), generate_code=False)\n",
    "layer3 = joey.Flat(input_size=(1, 1, 2, 2), generate_code=False)\n",
    "layer4 = joey.FullyConnectedSoftmax(weight_size=(2, 4), input_size=(4, 1), generate_code=False)"
   ]
  },
  {
   "cell_type": "markdown",
   "metadata": {},
   "source": [
    "Every layer has an `equations()` method which returns a list of equations that can be supplied to an `Operator` in Devito. The method accepts an `input_function` argument, making it possible to merge equations from different layers into one list forming a chain of layers. We'll use it to create **one** `Operator` running a forward pass through our CNN."
   ]
  },
  {
   "cell_type": "code",
   "execution_count": 3,
   "metadata": {},
   "outputs": [],
   "source": [
    "equations = layer1.equations() + layer2.equations(input_function=layer1.result) + \\\n",
    "            layer3.equations(input_function=layer2.result) + \\\n",
    "            layer4.equations(input_function=layer3.result)\n",
    "op = Operator(equations)"
   ]
  },
  {
   "cell_type": "markdown",
   "metadata": {},
   "source": [
    "Now, let's inject sample data into layers by using `input` and `kernel` properties.\n",
    "\n",
    "* `layer1.input` represents input data for the CNN.\n",
    "* `layer2.kernel` represents a convolutional filter.\n",
    "* `layer4.kernel` represents a weight matrix."
   ]
  },
  {
   "cell_type": "code",
   "execution_count": 4,
   "metadata": {},
   "outputs": [],
   "source": [
    "layer1.input.data[:] = [[[[5, 7, 8, 0],\n",
    "                        [-1, -2, -3, 10],\n",
    "                        [1, 2, 3, 4],\n",
    "                        [11, 12, 9, 9]]]]\n",
    "layer2.kernel.data[:] = [[[1, -1],\n",
    "                         [-1, 1]]]\n",
    "layer4.kernel.data[:] = [[1, 1, 1, 0.5],\n",
    "                         [1, 1, 1, 0]]"
   ]
  },
  {
   "cell_type": "markdown",
   "metadata": {},
   "source": [
    "Once all the data are added, we're ready to run the `Operator`."
   ]
  },
  {
   "cell_type": "code",
   "execution_count": 5,
   "metadata": {},
   "outputs": [
    {
     "name": "stderr",
     "output_type": "stream",
     "text": [
      "Operator `Kernel` run in 0.01 s\n"
     ]
    },
    {
     "data": {
      "text/plain": [
       "PerformanceSummary([(PerfKey(name='section0', rank=None),\n",
       "                     PerfEntry(time=2e-06, gflopss=0.0, gpointss=0.0, oi=0.0, ops=0, itershapes=[])),\n",
       "                    (PerfKey(name='section1', rank=None),\n",
       "                     PerfEntry(time=1e-06, gflopss=0.0, gpointss=0.0, oi=0.0, ops=0, itershapes=[])),\n",
       "                    (PerfKey(name='section2', rank=None),\n",
       "                     PerfEntry(time=1e-06, gflopss=0.0, gpointss=0.0, oi=0.0, ops=0, itershapes=[])),\n",
       "                    (PerfKey(name='section3', rank=None),\n",
       "                     PerfEntry(time=1e-06, gflopss=0.0, gpointss=0.0, oi=0.0, ops=0, itershapes=[])),\n",
       "                    (PerfKey(name='section4', rank=None),\n",
       "                     PerfEntry(time=4e-06, gflopss=0.0, gpointss=0.0, oi=0.0, ops=0, itershapes=[])),\n",
       "                    (PerfKey(name='section5', rank=None),\n",
       "                     PerfEntry(time=4e-06, gflopss=0.0, gpointss=0.0, oi=0.0, ops=0, itershapes=[]))])"
      ]
     },
     "execution_count": 5,
     "metadata": {},
     "output_type": "execute_result"
    }
   ],
   "source": [
    "op.apply()"
   ]
  },
  {
   "cell_type": "markdown",
   "metadata": {},
   "source": [
    "The results can be obtained by using a `result` property of the final layer."
   ]
  },
  {
   "cell_type": "code",
   "execution_count": 6,
   "metadata": {},
   "outputs": [
    {
     "name": "stdout",
     "output_type": "stream",
     "text": [
      "[[0.00669285]\n",
      " [0.99330715]]\n"
     ]
    }
   ],
   "source": [
    "print(layer4.result.data)"
   ]
  },
  {
   "cell_type": "markdown",
   "metadata": {},
   "source": [
    "For reference purposes, here's the C code generated by our `Operator`:"
   ]
  },
  {
   "cell_type": "code",
   "execution_count": 7,
   "metadata": {},
   "outputs": [
    {
     "name": "stdout",
     "output_type": "stream",
     "text": [
      "#define _POSIX_C_SOURCE 200809L\n",
      "#include \"stdlib.h\"\n",
      "#include \"math.h\"\n",
      "#include \"sys/time.h\"\n",
      "#include \"xmmintrin.h\"\n",
      "#include \"pmmintrin.h\"\n",
      "\n",
      "struct dataobj\n",
      "{\n",
      "  void *restrict data;\n",
      "  int * size;\n",
      "  int * npsize;\n",
      "  int * dsize;\n",
      "  int * hsize;\n",
      "  int * hofs;\n",
      "  int * oofs;\n",
      "} ;\n",
      "\n",
      "struct profiler\n",
      "{\n",
      "  double section0;\n",
      "  double section1;\n",
      "  double section2;\n",
      "  double section3;\n",
      "  double section4;\n",
      "  double section5;\n",
      "} ;\n",
      "\n",
      "\n",
      "int Kernel(struct dataobj *restrict f0_vec, struct dataobj *restrict f1_vec, struct dataobj *restrict f11_vec, struct dataobj *restrict f13_vec, struct dataobj *restrict f15_vec, struct dataobj *restrict f16_vec, struct dataobj *restrict f17_vec, struct dataobj *restrict f21_vec, struct dataobj *restrict f22_vec, struct dataobj *restrict f3_vec, struct dataobj *restrict f5_vec, struct dataobj *restrict f6_vec, const int d11_M, const int d11_m, const int d12_M, const int d12_m, const int d19_M, const int d19_m, const int d20_M, const int d20_m, const int d21_M, const int d21_m, const int d22_M, const int d22_m, const int d34_M, const int d34_m, const int d35_M, const int d35_m, const int d36_M, const int d36_m, const int d39_M, const int d39_m, const int d4_M, const int d4_m, const int d5_M, const int d5_m, const int d6_M, const int d6_m, const int d7_M, const int d7_m, struct profiler * timers)\n",
      "{\n",
      "  double (*restrict f0)[f0_vec->size[1]][f0_vec->size[2]][f0_vec->size[3]] __attribute__ ((aligned (64))) = (double (*)[f0_vec->size[1]][f0_vec->size[2]][f0_vec->size[3]]) f0_vec->data;\n",
      "  double (*restrict f1)[f1_vec->size[1]][f1_vec->size[2]][f1_vec->size[3]] __attribute__ ((aligned (64))) = (double (*)[f1_vec->size[1]][f1_vec->size[2]][f1_vec->size[3]]) f1_vec->data;\n",
      "  double (*restrict f11)[f11_vec->size[1]] __attribute__ ((aligned (64))) = (double (*)[f11_vec->size[1]]) f11_vec->data;\n",
      "  double (*restrict f13)[f13_vec->size[1]] __attribute__ ((aligned (64))) = (double (*)[f13_vec->size[1]]) f13_vec->data;\n",
      "  double (*restrict f15)[f15_vec->size[1]] __attribute__ ((aligned (64))) = (double (*)[f15_vec->size[1]]) f15_vec->data;\n",
      "  double (*restrict f16)[f16_vec->size[1]] __attribute__ ((aligned (64))) = (double (*)[f16_vec->size[1]]) f16_vec->data;\n",
      "  double (*restrict f17) __attribute__ ((aligned (64))) = (double (*)) f17_vec->data;\n",
      "  double (*restrict f21) __attribute__ ((aligned (64))) = (double (*)) f21_vec->data;\n",
      "  double (*restrict f22) __attribute__ ((aligned (64))) = (double (*)) f22_vec->data;\n",
      "  double (*restrict f3)[f3_vec->size[1]][f3_vec->size[2]][f3_vec->size[3]] __attribute__ ((aligned (64))) = (double (*)[f3_vec->size[1]][f3_vec->size[2]][f3_vec->size[3]]) f3_vec->data;\n",
      "  double (*restrict f5)[f5_vec->size[1]][f5_vec->size[2]][f5_vec->size[3]] __attribute__ ((aligned (64))) = (double (*)[f5_vec->size[1]][f5_vec->size[2]][f5_vec->size[3]]) f5_vec->data;\n",
      "  double (*restrict f6) __attribute__ ((aligned (64))) = (double (*)) f6_vec->data;\n",
      "\n",
      "  /* Flush denormal numbers to zero in hardware */\n",
      "  _MM_SET_DENORMALS_ZERO_MODE(_MM_DENORMALS_ZERO_ON);\n",
      "  _MM_SET_FLUSH_ZERO_MODE(_MM_FLUSH_ZERO_ON);\n",
      "  struct timeval start_section0, end_section0;\n",
      "  gettimeofday(&start_section0, NULL);\n",
      "  /* Begin section0 */\n",
      "  for (int d4 = d4_m; d4 <= d4_M; d4 += 1)\n",
      "  {\n",
      "    for (int d5 = d5_m; d5 <= d5_M; d5 += 1)\n",
      "    {\n",
      "      for (int d6 = d6_m; d6 <= d6_M; d6 += 1)\n",
      "      {\n",
      "        #pragma omp simd aligned(f0,f1:32)\n",
      "        for (int d7 = d7_m; d7 <= d7_M; d7 += 1)\n",
      "        {\n",
      "          f1[d4][d5][d6][d7] = fmax(f0[d4][d5][d6][d7], fmax(f0[d4][d5][d6][d7 + 1], fmax(f0[d4][d5][d6 + 1][d7], f0[d4][d5][d6 + 1][d7 + 1])));\n",
      "        }\n",
      "      }\n",
      "    }\n",
      "  }\n",
      "  /* End section0 */\n",
      "  gettimeofday(&end_section0, NULL);\n",
      "  timers->section0 += (double)(end_section0.tv_sec-start_section0.tv_sec)+(double)(end_section0.tv_usec-start_section0.tv_usec)/1000000;\n",
      "  struct timeval start_section1, end_section1;\n",
      "  gettimeofday(&start_section1, NULL);\n",
      "  /* Begin section1 */\n",
      "  for (int d19 = d19_m; d19 <= d19_M; d19 += 1)\n",
      "  {\n",
      "    for (int d11 = d11_m; d11 <= d11_M; d11 += 1)\n",
      "    {\n",
      "      for (int d12 = d12_m; d12 <= d12_M; d12 += 1)\n",
      "      {\n",
      "        for (int d21 = d21_m; d21 <= d21_M; d21 += 1)\n",
      "        {\n",
      "          for (int d22 = d22_m; d22 <= d22_M; d22 += 1)\n",
      "          {\n",
      "            double r0 = f1[d19][d12][d21][d22]*f3[d11][d12][0][0] + f1[d19][d12][d21][d22 + 1]*f3[d11][d12][0][1] + f1[d19][d12][d21 + 1][d22]*f3[d11][d12][1][0] + f1[d19][d12][d21 + 1][d22 + 1]*f3[d11][d12][1][1];\n",
      "            f5[d19][d11][d21][d22] += r0;\n",
      "          }\n",
      "        }\n",
      "      }\n",
      "      for (int d21 = d21_m; d21 <= d21_M; d21 += 1)\n",
      "      {\n",
      "        for (int d22 = d22_m; d22 <= d22_M; d22 += 1)\n",
      "        {\n",
      "          double r1 = f6[d11];\n",
      "          f5[d19][d11][d21][d22] += r1;\n",
      "          f5[d19][d11][d21][d22] = f5[d19][d11][d21][d22];\n",
      "        }\n",
      "      }\n",
      "    }\n",
      "  }\n",
      "  /* End section1 */\n",
      "  gettimeofday(&end_section1, NULL);\n",
      "  timers->section1 += (double)(end_section1.tv_sec-start_section1.tv_sec)+(double)(end_section1.tv_usec-start_section1.tv_usec)/1000000;\n",
      "  struct timeval start_section2, end_section2;\n",
      "  gettimeofday(&start_section2, NULL);\n",
      "  /* Begin section2 */\n",
      "  for (int d20 = d20_m; d20 <= d20_M; d20 += 1)\n",
      "  {\n",
      "    for (int d21 = d21_m; d21 <= d21_M; d21 += 1)\n",
      "    {\n",
      "      #pragma omp simd aligned(f11,f5:32)\n",
      "      for (int d22 = d22_m; d22 <= d22_M; d22 += 1)\n",
      "      {\n",
      "        f11[4*d20 + 2*d21 + d22][0] = f5[0][d20][d21][d22];\n",
      "      }\n",
      "    }\n",
      "  }\n",
      "  /* End section2 */\n",
      "  gettimeofday(&end_section2, NULL);\n",
      "  timers->section2 += (double)(end_section2.tv_sec-start_section2.tv_sec)+(double)(end_section2.tv_usec-start_section2.tv_usec)/1000000;\n",
      "  struct timeval start_section3, end_section3;\n",
      "  gettimeofday(&start_section3, NULL);\n",
      "  /* Begin section3 */\n",
      "  for (int d34 = d34_m; d34 <= d34_M; d34 += 1)\n",
      "  {\n",
      "    for (int d35 = d35_m; d35 <= d35_M; d35 += 1)\n",
      "    {\n",
      "      #pragma omp simd aligned(f11,f13,f16:32)\n",
      "      for (int d36 = d36_m; d36 <= d36_M; d36 += 1)\n",
      "      {\n",
      "        double r2 = f11[d35][d36]*f13[d34][d35];\n",
      "        f16[d34][d36] += r2;\n",
      "      }\n",
      "    }\n",
      "    #pragma omp simd aligned(f16,f17:32)\n",
      "    for (int d36 = d36_m; d36 <= d36_M; d36 += 1)\n",
      "    {\n",
      "      double r3 = f17[d34];\n",
      "      f16[d34][d36] += r3;\n",
      "    }\n",
      "  }\n",
      "  /* End section3 */\n",
      "  gettimeofday(&end_section3, NULL);\n",
      "  timers->section3 += (double)(end_section3.tv_sec-start_section3.tv_sec)+(double)(end_section3.tv_usec-start_section3.tv_usec)/1000000;\n",
      "  struct timeval start_section4, end_section4;\n",
      "  gettimeofday(&start_section4, NULL);\n",
      "  /* Begin section4 */\n",
      "  for (int d39 = d39_m; d39 <= d39_M; d39 += 1)\n",
      "  {\n",
      "    f22[d39] = fmax(f16[0][d39], f16[1][d39]);\n",
      "    f21[d39] = exp(-f22[d39] + f16[0][d39]) + exp(-f22[d39] + f16[1][d39]);\n",
      "  }\n",
      "  /* End section4 */\n",
      "  gettimeofday(&end_section4, NULL);\n",
      "  timers->section4 += (double)(end_section4.tv_sec-start_section4.tv_sec)+(double)(end_section4.tv_usec-start_section4.tv_usec)/1000000;\n",
      "  struct timeval start_section5, end_section5;\n",
      "  gettimeofday(&start_section5, NULL);\n",
      "  /* Begin section5 */\n",
      "  for (int d34 = d34_m; d34 <= d34_M; d34 += 1)\n",
      "  {\n",
      "    for (int d35 = d35_m; d35 <= d35_M; d35 += 1)\n",
      "    {\n",
      "      f15[d34][d35] = exp(-f22[d35] + f16[d34][d35])/f21[d35];\n",
      "    }\n",
      "    for (int d36 = d36_m; d36 <= d36_M; d36 += 1)\n",
      "    {\n",
      "      f16[d34][d36] = 0;\n",
      "    }\n",
      "  }\n",
      "  /* End section5 */\n",
      "  gettimeofday(&end_section5, NULL);\n",
      "  timers->section5 += (double)(end_section5.tv_sec-start_section5.tv_sec)+(double)(end_section5.tv_usec-start_section5.tv_usec)/1000000;\n",
      "  return 0;\n",
      "}\n",
      "\n"
     ]
    }
   ],
   "source": [
    "print(op)"
   ]
  }
 ],
 "metadata": {
  "kernelspec": {
   "display_name": "Python 3",
   "language": "python",
   "name": "python3"
  },
  "language_info": {
   "codemirror_mode": {
    "name": "ipython",
    "version": 3
   },
   "file_extension": ".py",
   "mimetype": "text/x-python",
   "name": "python",
   "nbconvert_exporter": "python",
   "pygments_lexer": "ipython3",
   "version": "3.8.3"
  }
 },
 "nbformat": 4,
 "nbformat_minor": 4
}
